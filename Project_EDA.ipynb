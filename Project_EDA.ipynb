{
 "cells": [
  {
   "cell_type": "code",
   "execution_count": 1,
   "metadata": {},
   "outputs": [],
   "source": [
    "%matplotlib inline\n",
    "import numpy as np \n",
    "import pandas as pd \n",
    "import matplotlib.pyplot as plt\n",
    "import collections\n",
    "import re, string\n",
    "import sys\n",
    "import time\n",
    "import json\n",
    "from nltk.corpus import stopwords\n",
    "from subprocess import check_output\n",
    "%matplotlib inline"
   ]
  },
  {
   "cell_type": "code",
   "execution_count": 2,
   "metadata": {},
   "outputs": [],
   "source": [
    "\n",
    "\n",
    "def init_ds(json):\n",
    "    ds = {}\n",
    "    keys = json.keys()\n",
    "    for k in keys:\n",
    "        ds[k] = []\n",
    "    return ds, keys\n",
    "\n",
    "def read_json(file):\n",
    "    dataset = {}\n",
    "    keys = []\n",
    "    with open(file, encoding = \"utf8\") as file_lines:\n",
    "        for count, line in enumerate(file_lines):\n",
    "            data = json.loads(line.strip())\n",
    "            if count == 0:\n",
    "                dataset, keys = init_ds(data)\n",
    "            for k in keys:\n",
    "                dataset[k].append(data[k])\n",
    "        return pd.DataFrame(dataset)"
   ]
  },
  {
   "cell_type": "code",
   "execution_count": 3,
   "metadata": {},
   "outputs": [
    {
     "name": "stdout",
     "output_type": "stream",
     "text": [
      "Wall time: 8.62 s\n"
     ]
    }
   ],
   "source": [
    "%%time\n",
    "yelp_business = read_json(r'C:/Users/adity/Downloads/CS396 - Data Science Pipeline/Yelp_Dataset/business.json')"
   ]
  },
  {
   "cell_type": "code",
   "execution_count": 4,
   "metadata": {},
   "outputs": [
    {
     "name": "stdout",
     "output_type": "stream",
     "text": [
      "<class 'pandas.core.frame.DataFrame'>\n",
      "RangeIndex: 192609 entries, 0 to 192608\n",
      "Data columns (total 14 columns):\n",
      "business_id     192609 non-null object\n",
      "name            192609 non-null object\n",
      "address         192609 non-null object\n",
      "city            192609 non-null object\n",
      "state           192609 non-null object\n",
      "postal_code     192609 non-null object\n",
      "latitude        192609 non-null float64\n",
      "longitude       192609 non-null float64\n",
      "stars           192609 non-null float64\n",
      "review_count    192609 non-null int64\n",
      "is_open         192609 non-null int64\n",
      "attributes      163773 non-null object\n",
      "categories      192127 non-null object\n",
      "hours           147779 non-null object\n",
      "dtypes: float64(3), int64(2), object(9)\n",
      "memory usage: 20.6+ MB\n"
     ]
    }
   ],
   "source": [
    "yelp_business.info()"
   ]
  },
  {
   "cell_type": "code",
   "execution_count": 5,
   "metadata": {},
   "outputs": [],
   "source": [
    "yelp_review = read_json(r'C:/Users/adity/Downloads/CS396 - Data Science Pipeline/Yelp_Dataset/review.json')"
   ]
  },
  {
   "cell_type": "code",
   "execution_count": 6,
   "metadata": {},
   "outputs": [
    {
     "data": {
      "text/plain": [
       "4JNXUYY8wbaaDmk3BPzlWw    8570\n",
       "RESDUcs7fIiihp38-d6_6g    8568\n",
       "K7lWdNUhCbcnEvI0NhGewg    6887\n",
       "f4x1YBxkLrZg652xt2KR5g    5847\n",
       "cYwJA2A6I12KNkm2rtXd5g    5575\n",
       "DkYS3arLOhA8si5uUEmHOw    5206\n",
       "2weQS-RnoOBhb1KsHKyoSQ    4534\n",
       "5LNZ67Yw9RD6nf4_UhXOjw    4522\n",
       "iCQpiavjjPzJ5_3gPD5Ebg    4351\n",
       "SMPbvZLSMMb7KU76YNYMGg    4350\n",
       "ujHiaprwCQ5ewziu0Vi9rw    4318\n",
       "AV6weBrZFFBfRGCbcRGO4g    4240\n",
       "KskYqH1Bi7Z_61pH6Om8pg    4131\n",
       "El4FC8jcawUVgw_0EIcbaQ    4093\n",
       "rcaPajgKOJC2vo_l3xa42A    4014\n",
       "eoHdUeQDNgQ6WYEnP2aiRw    4006\n",
       "FaHADZARwnY4yvlvpnsfGA    3710\n",
       "faPVqws-x-5k2CQKDNtHxw    3662\n",
       "OETh78qcgDltvHULowwhJg    3642\n",
       "Wxxvi3LZbHNIDwJ-ZimtnA    3579\n",
       "u_vPjx925UPEG9DFOAAvFQ    3575\n",
       "hihud--QRriCYZw1zZvW4g    3554\n",
       "7sPNbCx7vGAaH7SbNPZ6oA    3494\n",
       "g8OnV26ywJlZpezdBnOWUQ    3366\n",
       "3kdSl5mo9dWC4clrQjEDGg    3350\n",
       "XZbuPXdyA0ZtTu3AzqtQhg    3339\n",
       "XXW_OFaYQkkGOGniujZFHg    3330\n",
       "YJ8ljUhLsz6CtT_2ORNFmg    3305\n",
       "na4Th5DrNauOv-c43QQFvA    3301\n",
       "HhVmDybpU7L50Kb5A0jXTg    3284\n",
       "                          ... \n",
       "h3KyMjr-KiAYQ9dTFd7eAQ       3\n",
       "xOctL53T9l7eNQaZyw-zCw       3\n",
       "LODNh072l8HIjzEOhshOsQ       3\n",
       "dSTjZIn5q1MJHhzYisV0zg       3\n",
       "zLTacjiwYO-_ivAWkpjcIQ       3\n",
       "MSosgFESXFmBD9XrBtyUww       3\n",
       "KtULkdHAEOeaON2cFfh4mQ       3\n",
       "RYrS9L8DupuwyHWYqeuayw       3\n",
       "wecdFbL8APMxI5h9DGDXaw       3\n",
       "2sE_EAtOnd_6ePdkmO1eXQ       3\n",
       "bGarthKM0qNvg8tfLlSWGA       3\n",
       "4zZb5Dmu9DK6WPzV3NR00w       3\n",
       "g_IPuOS2b1hinBHzp29WZQ       3\n",
       "E7bKJe7DmiNfUkXgavozRg       3\n",
       "C6sjj9oeMdAuFCGwDXZBKQ       3\n",
       "WBqCE-W9gr7LPd61bZEdyQ       3\n",
       "SJ6yW6ZmcFMb_sAO8HEiUg       3\n",
       "hkbQvFP5dwgF8XgWT4LApg       3\n",
       "fZlkE8r3c00Rj1qVHFNfsQ       3\n",
       "mLGg83gMl4hPw4jJJyqDlQ       3\n",
       "RPdnLqobT7fUzyekOnMitQ       3\n",
       "3kZtT0xBZr43UVBrKV2L2w       3\n",
       "UF3Wihvx2k6u5cnid1jw9A       3\n",
       "ZLiidgMHm6Wmo2QVfP6GgQ       3\n",
       "Ae0cQXAL47t7AYcE6CePRg       3\n",
       "Lj6tX9QOf-uxLNOZ8n97rQ       3\n",
       "rrbqgO_atoJ_mYaOOxWjkg       3\n",
       "QghZy1ClUX7QAogBlo09gg       3\n",
       "UB0izJT0vBmH-PaooCKxZw       3\n",
       "VnpZg4h3O5AlcMjJYErowA       2\n",
       "Name: business_id, Length: 192606, dtype: int64"
      ]
     },
     "execution_count": 6,
     "metadata": {},
     "output_type": "execute_result"
    }
   ],
   "source": [
    "yelp_review.business_id.value_counts()"
   ]
  },
  {
   "cell_type": "code",
   "execution_count": 7,
   "metadata": {},
   "outputs": [
    {
     "data": {
      "text/html": [
       "<div>\n",
       "<style scoped>\n",
       "    .dataframe tbody tr th:only-of-type {\n",
       "        vertical-align: middle;\n",
       "    }\n",
       "\n",
       "    .dataframe tbody tr th {\n",
       "        vertical-align: top;\n",
       "    }\n",
       "\n",
       "    .dataframe thead th {\n",
       "        text-align: right;\n",
       "    }\n",
       "</style>\n",
       "<table border=\"1\" class=\"dataframe\">\n",
       "  <thead>\n",
       "    <tr style=\"text-align: right;\">\n",
       "      <th></th>\n",
       "      <th>business_id</th>\n",
       "      <th>name</th>\n",
       "      <th>address</th>\n",
       "      <th>city</th>\n",
       "      <th>state</th>\n",
       "      <th>postal_code</th>\n",
       "      <th>latitude</th>\n",
       "      <th>longitude</th>\n",
       "      <th>stars</th>\n",
       "      <th>review_count</th>\n",
       "      <th>is_open</th>\n",
       "      <th>attributes</th>\n",
       "      <th>categories</th>\n",
       "      <th>hours</th>\n",
       "    </tr>\n",
       "  </thead>\n",
       "  <tbody>\n",
       "    <tr>\n",
       "      <th>0</th>\n",
       "      <td>1SWheh84yJXfytovILXOAQ</td>\n",
       "      <td>Arizona Biltmore Golf Club</td>\n",
       "      <td>2818 E Camino Acequia Drive</td>\n",
       "      <td>Phoenix</td>\n",
       "      <td>AZ</td>\n",
       "      <td>85016</td>\n",
       "      <td>33.522143</td>\n",
       "      <td>-112.018481</td>\n",
       "      <td>3.0</td>\n",
       "      <td>5</td>\n",
       "      <td>0</td>\n",
       "      <td>{'GoodForKids': 'False'}</td>\n",
       "      <td>Golf, Active Life</td>\n",
       "      <td>None</td>\n",
       "    </tr>\n",
       "    <tr>\n",
       "      <th>1</th>\n",
       "      <td>QXAEGFB4oINsVuTFxEYKFQ</td>\n",
       "      <td>Emerald Chinese Restaurant</td>\n",
       "      <td>30 Eglinton Avenue W</td>\n",
       "      <td>Mississauga</td>\n",
       "      <td>ON</td>\n",
       "      <td>L5R 3E7</td>\n",
       "      <td>43.605499</td>\n",
       "      <td>-79.652289</td>\n",
       "      <td>2.5</td>\n",
       "      <td>128</td>\n",
       "      <td>1</td>\n",
       "      <td>{'RestaurantsReservations': 'True', 'GoodForMe...</td>\n",
       "      <td>Specialty Food, Restaurants, Dim Sum, Imported...</td>\n",
       "      <td>{'Monday': '9:0-0:0', 'Tuesday': '9:0-0:0', 'W...</td>\n",
       "    </tr>\n",
       "    <tr>\n",
       "      <th>2</th>\n",
       "      <td>gnKjwL_1w79qoiV3IC_xQQ</td>\n",
       "      <td>Musashi Japanese Restaurant</td>\n",
       "      <td>10110 Johnston Rd, Ste 15</td>\n",
       "      <td>Charlotte</td>\n",
       "      <td>NC</td>\n",
       "      <td>28210</td>\n",
       "      <td>35.092564</td>\n",
       "      <td>-80.859132</td>\n",
       "      <td>4.0</td>\n",
       "      <td>170</td>\n",
       "      <td>1</td>\n",
       "      <td>{'GoodForKids': 'True', 'NoiseLevel': 'u'avera...</td>\n",
       "      <td>Sushi Bars, Restaurants, Japanese</td>\n",
       "      <td>{'Monday': '17:30-21:30', 'Wednesday': '17:30-...</td>\n",
       "    </tr>\n",
       "    <tr>\n",
       "      <th>3</th>\n",
       "      <td>xvX2CttrVhyG2z1dFg_0xw</td>\n",
       "      <td>Farmers Insurance - Paul Lorenz</td>\n",
       "      <td>15655 W Roosevelt St, Ste 237</td>\n",
       "      <td>Goodyear</td>\n",
       "      <td>AZ</td>\n",
       "      <td>85338</td>\n",
       "      <td>33.455613</td>\n",
       "      <td>-112.395596</td>\n",
       "      <td>5.0</td>\n",
       "      <td>3</td>\n",
       "      <td>1</td>\n",
       "      <td>None</td>\n",
       "      <td>Insurance, Financial Services</td>\n",
       "      <td>{'Monday': '8:0-17:0', 'Tuesday': '8:0-17:0', ...</td>\n",
       "    </tr>\n",
       "    <tr>\n",
       "      <th>4</th>\n",
       "      <td>HhyxOkGAM07SRYtlQ4wMFQ</td>\n",
       "      <td>Queen City Plumbing</td>\n",
       "      <td>4209 Stuart Andrew Blvd, Ste F</td>\n",
       "      <td>Charlotte</td>\n",
       "      <td>NC</td>\n",
       "      <td>28217</td>\n",
       "      <td>35.190012</td>\n",
       "      <td>-80.887223</td>\n",
       "      <td>4.0</td>\n",
       "      <td>4</td>\n",
       "      <td>1</td>\n",
       "      <td>{'BusinessAcceptsBitcoin': 'False', 'ByAppoint...</td>\n",
       "      <td>Plumbing, Shopping, Local Services, Home Servi...</td>\n",
       "      <td>{'Monday': '7:0-23:0', 'Tuesday': '7:0-23:0', ...</td>\n",
       "    </tr>\n",
       "  </tbody>\n",
       "</table>\n",
       "</div>"
      ],
      "text/plain": [
       "              business_id                             name  \\\n",
       "0  1SWheh84yJXfytovILXOAQ       Arizona Biltmore Golf Club   \n",
       "1  QXAEGFB4oINsVuTFxEYKFQ       Emerald Chinese Restaurant   \n",
       "2  gnKjwL_1w79qoiV3IC_xQQ      Musashi Japanese Restaurant   \n",
       "3  xvX2CttrVhyG2z1dFg_0xw  Farmers Insurance - Paul Lorenz   \n",
       "4  HhyxOkGAM07SRYtlQ4wMFQ              Queen City Plumbing   \n",
       "\n",
       "                          address         city state postal_code   latitude  \\\n",
       "0     2818 E Camino Acequia Drive      Phoenix    AZ       85016  33.522143   \n",
       "1            30 Eglinton Avenue W  Mississauga    ON     L5R 3E7  43.605499   \n",
       "2       10110 Johnston Rd, Ste 15    Charlotte    NC       28210  35.092564   \n",
       "3   15655 W Roosevelt St, Ste 237     Goodyear    AZ       85338  33.455613   \n",
       "4  4209 Stuart Andrew Blvd, Ste F    Charlotte    NC       28217  35.190012   \n",
       "\n",
       "    longitude  stars  review_count  is_open  \\\n",
       "0 -112.018481    3.0             5        0   \n",
       "1  -79.652289    2.5           128        1   \n",
       "2  -80.859132    4.0           170        1   \n",
       "3 -112.395596    5.0             3        1   \n",
       "4  -80.887223    4.0             4        1   \n",
       "\n",
       "                                          attributes  \\\n",
       "0                           {'GoodForKids': 'False'}   \n",
       "1  {'RestaurantsReservations': 'True', 'GoodForMe...   \n",
       "2  {'GoodForKids': 'True', 'NoiseLevel': 'u'avera...   \n",
       "3                                               None   \n",
       "4  {'BusinessAcceptsBitcoin': 'False', 'ByAppoint...   \n",
       "\n",
       "                                          categories  \\\n",
       "0                                  Golf, Active Life   \n",
       "1  Specialty Food, Restaurants, Dim Sum, Imported...   \n",
       "2                  Sushi Bars, Restaurants, Japanese   \n",
       "3                      Insurance, Financial Services   \n",
       "4  Plumbing, Shopping, Local Services, Home Servi...   \n",
       "\n",
       "                                               hours  \n",
       "0                                               None  \n",
       "1  {'Monday': '9:0-0:0', 'Tuesday': '9:0-0:0', 'W...  \n",
       "2  {'Monday': '17:30-21:30', 'Wednesday': '17:30-...  \n",
       "3  {'Monday': '8:0-17:0', 'Tuesday': '8:0-17:0', ...  \n",
       "4  {'Monday': '7:0-23:0', 'Tuesday': '7:0-23:0', ...  "
      ]
     },
     "execution_count": 7,
     "metadata": {},
     "output_type": "execute_result"
    }
   ],
   "source": [
    "yelp_business.head()"
   ]
  },
  {
   "cell_type": "code",
   "execution_count": 8,
   "metadata": {},
   "outputs": [],
   "source": [
    "bottom_reviewed = yelp_review[yelp_review[\"stars\"] < 2]\n",
    "bottom_reviews_dict = {} \n",
    "\n",
    "for business_id in bottom_reviewed[\"business_id\"].values:\n",
    "    try:\n",
    "        bottom_reviews_dict[business_id] = bottom_reviews_dict[business_id] + 1\n",
    "    except:\n",
    "        bottom_reviews_dict[business_id] = 1\n",
    "        \n",
    "bottombusiness = pd.DataFrame.from_dict(data = bottom_reviews_dict, orient = \"index\")\n",
    "bottombusiness.reset_index(inplace = True)\n",
    "bottombusiness.columns = ['business_id', 'rated']"
   ]
  },
  {
   "cell_type": "code",
   "execution_count": 9,
   "metadata": {},
   "outputs": [],
   "source": [
    "right = pd.DataFrame(yelp_business[['business_id', \"name\", \"categories\"]].values, columns = ['business_id', \"Business name\", \"categories\"])\n",
    "bottom_business_data = pd.merge(bottombusiness, right = right, how = \"inner\", on = 'business_id')"
   ]
  },
  {
   "cell_type": "code",
   "execution_count": 10,
   "metadata": {},
   "outputs": [
    {
     "data": {
      "text/plain": [
       "<matplotlib.axes._subplots.AxesSubplot at 0x1d5daaaf668>"
      ]
     },
     "execution_count": 10,
     "metadata": {},
     "output_type": "execute_result"
    },
    {
     "data": {
      "image/png": "[encoded data removed]",
      "text/plain": [
       "<Figure size 720x720 with 1 Axes>"
      ]
     },
     "metadata": {},
     "output_type": "display_data"
    }
   ],
   "source": [
    "num_cat = 10\n",
    "bottom_business = 30 #choose categories of top 30 businesses\n",
    "cat_data = bottom_business_data.sort_values(\"rated\")[::-1][:bottom_business]\n",
    "Categories = {}\n",
    "\n",
    "for cat in cat_data.categories.values:\n",
    "    all_categories = cat.split(\",\")\n",
    "    for x in all_categories:\n",
    "        try:\n",
    "            Categories[x] = Categories[x] + 1\n",
    "        except:\n",
    "            Categories[x] = 1\n",
    "bottom_categories = pd.DataFrame.from_dict(data = Categories, orient = \"index\")\n",
    "bottom_categories.reset_index(inplace = True)\n",
    "bottom_categories.columns = ['category', 'occurance']\n",
    "\n",
    "x_val = bottom_categories.sort_values(\"occurance\")[::-1][:num_cat].occurance.values\n",
    "labels = bottom_categories.sort_values(\"occurance\")[::-1][:num_cat].category.values\n",
    "\n",
    "series = pd.Series(x_val, index = labels, name = 'Categories')\n",
    "series.plot.pie(figsize = (10, 10), startangle = 90)"
   ]
  },
  {
   "cell_type": "code",
   "execution_count": 11,
   "metadata": {},
   "outputs": [],
   "source": [
    "close_busi_df = pd.DataFrame(yelp_business[yelp_business['is_open'] == 0][['business_id', \"review_count\", \"stars\"]].values, columns = ['business_id', \"Reviews_no\", \"stars\"])"
   ]
  },
  {
   "cell_type": "code",
   "execution_count": 12,
   "metadata": {},
   "outputs": [],
   "source": [
    "open_busi_df = pd.DataFrame(yelp_business[yelp_business['is_open'] == 1][['business_id', \"review_count\", \"stars\"]].values, columns = ['business_id', \"Reviews_no\", \"stars\"])"
   ]
  },
  {
   "cell_type": "code",
   "execution_count": 13,
   "metadata": {},
   "outputs": [
    {
     "data": {
      "text/html": [
       "<div>\n",
       "<style scoped>\n",
       "    .dataframe tbody tr th:only-of-type {\n",
       "        vertical-align: middle;\n",
       "    }\n",
       "\n",
       "    .dataframe tbody tr th {\n",
       "        vertical-align: top;\n",
       "    }\n",
       "\n",
       "    .dataframe thead th {\n",
       "        text-align: right;\n",
       "    }\n",
       "</style>\n",
       "<table border=\"1\" class=\"dataframe\">\n",
       "  <thead>\n",
       "    <tr style=\"text-align: right;\">\n",
       "      <th></th>\n",
       "      <th>business_id</th>\n",
       "      <th>Reviews_no</th>\n",
       "      <th>stars</th>\n",
       "    </tr>\n",
       "  </thead>\n",
       "  <tbody>\n",
       "    <tr>\n",
       "      <th>0</th>\n",
       "      <td>QXAEGFB4oINsVuTFxEYKFQ</td>\n",
       "      <td>128</td>\n",
       "      <td>2.5</td>\n",
       "    </tr>\n",
       "    <tr>\n",
       "      <th>1</th>\n",
       "      <td>gnKjwL_1w79qoiV3IC_xQQ</td>\n",
       "      <td>170</td>\n",
       "      <td>4</td>\n",
       "    </tr>\n",
       "    <tr>\n",
       "      <th>2</th>\n",
       "      <td>xvX2CttrVhyG2z1dFg_0xw</td>\n",
       "      <td>3</td>\n",
       "      <td>5</td>\n",
       "    </tr>\n",
       "    <tr>\n",
       "      <th>3</th>\n",
       "      <td>HhyxOkGAM07SRYtlQ4wMFQ</td>\n",
       "      <td>4</td>\n",
       "      <td>4</td>\n",
       "    </tr>\n",
       "    <tr>\n",
       "      <th>4</th>\n",
       "      <td>68dUKd8_8liJ7in4aWOSEA</td>\n",
       "      <td>3</td>\n",
       "      <td>2.5</td>\n",
       "    </tr>\n",
       "  </tbody>\n",
       "</table>\n",
       "</div>"
      ],
      "text/plain": [
       "              business_id Reviews_no stars\n",
       "0  QXAEGFB4oINsVuTFxEYKFQ        128   2.5\n",
       "1  gnKjwL_1w79qoiV3IC_xQQ        170     4\n",
       "2  xvX2CttrVhyG2z1dFg_0xw          3     5\n",
       "3  HhyxOkGAM07SRYtlQ4wMFQ          4     4\n",
       "4  68dUKd8_8liJ7in4aWOSEA          3   2.5"
      ]
     },
     "execution_count": 13,
     "metadata": {},
     "output_type": "execute_result"
    }
   ],
   "source": [
    "open_busi_df.head()"
   ]
  },
  {
   "cell_type": "code",
   "execution_count": 14,
   "metadata": {},
   "outputs": [],
   "source": [
    "open_rev_df = pd.DataFrame(yelp_review[['business_id', \"useful\", \"funny\", \"cool\"]].values, columns = ['business_id', \"useful\", \"funny\", \"cool\"])"
   ]
  },
  {
   "cell_type": "code",
   "execution_count": 15,
   "metadata": {},
   "outputs": [],
   "source": [
    "open_rev_data = open_rev_df.groupby([\"business_id\"])"
   ]
  },
  {
   "cell_type": "code",
   "execution_count": 16,
   "metadata": {},
   "outputs": [],
   "source": [
    "test = open_rev_data.aggregate(np.sum)"
   ]
  },
  {
   "cell_type": "code",
   "execution_count": 17,
   "metadata": {},
   "outputs": [
    {
     "data": {
      "text/html": [
       "<div>\n",
       "<style scoped>\n",
       "    .dataframe tbody tr th:only-of-type {\n",
       "        vertical-align: middle;\n",
       "    }\n",
       "\n",
       "    .dataframe tbody tr th {\n",
       "        vertical-align: top;\n",
       "    }\n",
       "\n",
       "    .dataframe thead th {\n",
       "        text-align: right;\n",
       "    }\n",
       "</style>\n",
       "<table border=\"1\" class=\"dataframe\">\n",
       "  <thead>\n",
       "    <tr style=\"text-align: right;\">\n",
       "      <th></th>\n",
       "      <th>useful</th>\n",
       "      <th>funny</th>\n",
       "      <th>cool</th>\n",
       "    </tr>\n",
       "    <tr>\n",
       "      <th>business_id</th>\n",
       "      <th></th>\n",
       "      <th></th>\n",
       "      <th></th>\n",
       "    </tr>\n",
       "  </thead>\n",
       "  <tbody>\n",
       "    <tr>\n",
       "      <th>--1UhMGODdWsrMastO9DZw</th>\n",
       "      <td>17</td>\n",
       "      <td>1</td>\n",
       "      <td>16</td>\n",
       "    </tr>\n",
       "    <tr>\n",
       "      <th>--6MefnULPED_I942VcFNA</th>\n",
       "      <td>61</td>\n",
       "      <td>30</td>\n",
       "      <td>35</td>\n",
       "    </tr>\n",
       "    <tr>\n",
       "      <th>--7zmmkVg-IMGaXbuVd0SQ</th>\n",
       "      <td>86</td>\n",
       "      <td>30</td>\n",
       "      <td>65</td>\n",
       "    </tr>\n",
       "    <tr>\n",
       "      <th>--8LPVSo5i0Oo61X01sV9A</th>\n",
       "      <td>11</td>\n",
       "      <td>0</td>\n",
       "      <td>0</td>\n",
       "    </tr>\n",
       "    <tr>\n",
       "      <th>--9QQLMTbFzLJ_oT-ON3Xw</th>\n",
       "      <td>8</td>\n",
       "      <td>3</td>\n",
       "      <td>4</td>\n",
       "    </tr>\n",
       "    <tr>\n",
       "      <th>--9e1ONYQuAa-CB_Rrw7Tw</th>\n",
       "      <td>1770</td>\n",
       "      <td>917</td>\n",
       "      <td>1183</td>\n",
       "    </tr>\n",
       "    <tr>\n",
       "      <th>--DaPTJW3-tB1vP-PfdTEg</th>\n",
       "      <td>18</td>\n",
       "      <td>3</td>\n",
       "      <td>10</td>\n",
       "    </tr>\n",
       "    <tr>\n",
       "      <th>--DdmeR16TRb3LsjG0ejrQ</th>\n",
       "      <td>18</td>\n",
       "      <td>15</td>\n",
       "      <td>14</td>\n",
       "    </tr>\n",
       "    <tr>\n",
       "      <th>--EF5N7P70J_UYBTPypYlA</th>\n",
       "      <td>8</td>\n",
       "      <td>2</td>\n",
       "      <td>4</td>\n",
       "    </tr>\n",
       "    <tr>\n",
       "      <th>--EX4rRznJrltyn-34Jz1w</th>\n",
       "      <td>5</td>\n",
       "      <td>3</td>\n",
       "      <td>3</td>\n",
       "    </tr>\n",
       "    <tr>\n",
       "      <th>--FBCX-N37CMYDfs790Bnw</th>\n",
       "      <td>106</td>\n",
       "      <td>49</td>\n",
       "      <td>67</td>\n",
       "    </tr>\n",
       "    <tr>\n",
       "      <th>--FLdgM0GNpXVMn74ppCGw</th>\n",
       "      <td>6</td>\n",
       "      <td>1</td>\n",
       "      <td>3</td>\n",
       "    </tr>\n",
       "    <tr>\n",
       "      <th>--GM_ORV2cYS-h38DSaCLw</th>\n",
       "      <td>5</td>\n",
       "      <td>4</td>\n",
       "      <td>4</td>\n",
       "    </tr>\n",
       "    <tr>\n",
       "      <th>--Gc998IMjLn8yr-HTzGUg</th>\n",
       "      <td>0</td>\n",
       "      <td>1</td>\n",
       "      <td>0</td>\n",
       "    </tr>\n",
       "    <tr>\n",
       "      <th>--I7YYLada0tSLkORTHb5Q</th>\n",
       "      <td>37</td>\n",
       "      <td>21</td>\n",
       "      <td>22</td>\n",
       "    </tr>\n",
       "    <tr>\n",
       "      <th>--KCl2FvVQpvjzmZSPyviA</th>\n",
       "      <td>15</td>\n",
       "      <td>2</td>\n",
       "      <td>7</td>\n",
       "    </tr>\n",
       "    <tr>\n",
       "      <th>--KQsXc-clkO7oHRqGzSzg</th>\n",
       "      <td>53</td>\n",
       "      <td>25</td>\n",
       "      <td>20</td>\n",
       "    </tr>\n",
       "    <tr>\n",
       "      <th>--Ni3oJ4VOqfOEu7Sj2Vzg</th>\n",
       "      <td>6</td>\n",
       "      <td>0</td>\n",
       "      <td>0</td>\n",
       "    </tr>\n",
       "    <tr>\n",
       "      <th>--Rsj71PBe31h5YljVseKA</th>\n",
       "      <td>3</td>\n",
       "      <td>4</td>\n",
       "      <td>4</td>\n",
       "    </tr>\n",
       "    <tr>\n",
       "      <th>--S62v0QgkqQaVUhFnNHrw</th>\n",
       "      <td>25</td>\n",
       "      <td>6</td>\n",
       "      <td>3</td>\n",
       "    </tr>\n",
       "    <tr>\n",
       "      <th>--SrzpvFLwP_YFwB_Cetow</th>\n",
       "      <td>39</td>\n",
       "      <td>10</td>\n",
       "      <td>28</td>\n",
       "    </tr>\n",
       "    <tr>\n",
       "      <th>--TcDRzRIxhvHM4DSgEuMA</th>\n",
       "      <td>2</td>\n",
       "      <td>0</td>\n",
       "      <td>0</td>\n",
       "    </tr>\n",
       "    <tr>\n",
       "      <th>--U98MNlDym2cLn36BBPgQ</th>\n",
       "      <td>6</td>\n",
       "      <td>0</td>\n",
       "      <td>0</td>\n",
       "    </tr>\n",
       "    <tr>\n",
       "      <th>--VMPfs4zfZJtQbqzJsNhg</th>\n",
       "      <td>54</td>\n",
       "      <td>9</td>\n",
       "      <td>0</td>\n",
       "    </tr>\n",
       "    <tr>\n",
       "      <th>--WsruI0IGEoeRmkErU5Gg</th>\n",
       "      <td>8</td>\n",
       "      <td>1</td>\n",
       "      <td>4</td>\n",
       "    </tr>\n",
       "    <tr>\n",
       "      <th>--Y7NhBKzLTbNliMUX_wfg</th>\n",
       "      <td>3</td>\n",
       "      <td>0</td>\n",
       "      <td>1</td>\n",
       "    </tr>\n",
       "    <tr>\n",
       "      <th>--YPwqIlRJrhHkJcjY3eiA</th>\n",
       "      <td>1</td>\n",
       "      <td>1</td>\n",
       "      <td>1</td>\n",
       "    </tr>\n",
       "    <tr>\n",
       "      <th>--ab39IjZR_xUf81WyTyHg</th>\n",
       "      <td>18</td>\n",
       "      <td>7</td>\n",
       "      <td>14</td>\n",
       "    </tr>\n",
       "    <tr>\n",
       "      <th>--cZ6Hhc9F7VkKXxHMVZSQ</th>\n",
       "      <td>398</td>\n",
       "      <td>132</td>\n",
       "      <td>166</td>\n",
       "    </tr>\n",
       "    <tr>\n",
       "      <th>--cgVkbWTiga3OYTkymKqA</th>\n",
       "      <td>10</td>\n",
       "      <td>3</td>\n",
       "      <td>3</td>\n",
       "    </tr>\n",
       "    <tr>\n",
       "      <th>...</th>\n",
       "      <td>...</td>\n",
       "      <td>...</td>\n",
       "      <td>...</td>\n",
       "    </tr>\n",
       "    <tr>\n",
       "      <th>zzTM2KyJkKomLDkl6rM4dQ</th>\n",
       "      <td>13</td>\n",
       "      <td>9</td>\n",
       "      <td>3</td>\n",
       "    </tr>\n",
       "    <tr>\n",
       "      <th>zzUj3ej4vm_DtvRxNvWDEw</th>\n",
       "      <td>119</td>\n",
       "      <td>51</td>\n",
       "      <td>56</td>\n",
       "    </tr>\n",
       "    <tr>\n",
       "      <th>zzXuJF6UUT1kgTyCsmgDmQ</th>\n",
       "      <td>6</td>\n",
       "      <td>0</td>\n",
       "      <td>2</td>\n",
       "    </tr>\n",
       "    <tr>\n",
       "      <th>zzYaAiC0rLNSDiFQlMKOEQ</th>\n",
       "      <td>18</td>\n",
       "      <td>1</td>\n",
       "      <td>8</td>\n",
       "    </tr>\n",
       "    <tr>\n",
       "      <th>zzYoocdehksv9_tg80a97w</th>\n",
       "      <td>12</td>\n",
       "      <td>2</td>\n",
       "      <td>0</td>\n",
       "    </tr>\n",
       "    <tr>\n",
       "      <th>zzZfgEpwrpi4Ywdaj3OIuQ</th>\n",
       "      <td>40</td>\n",
       "      <td>11</td>\n",
       "      <td>34</td>\n",
       "    </tr>\n",
       "    <tr>\n",
       "      <th>zzafWwri6ywvhvMsjS-l6w</th>\n",
       "      <td>2</td>\n",
       "      <td>0</td>\n",
       "      <td>3</td>\n",
       "    </tr>\n",
       "    <tr>\n",
       "      <th>zzbsLej_8KtTxGwJdOb09w</th>\n",
       "      <td>3</td>\n",
       "      <td>4</td>\n",
       "      <td>2</td>\n",
       "    </tr>\n",
       "    <tr>\n",
       "      <th>zze6IysT7bJFS8gvi6fZ2A</th>\n",
       "      <td>28</td>\n",
       "      <td>24</td>\n",
       "      <td>26</td>\n",
       "    </tr>\n",
       "    <tr>\n",
       "      <th>zzf3RkMI1Y2E1QaZqeU8yA</th>\n",
       "      <td>40</td>\n",
       "      <td>4</td>\n",
       "      <td>14</td>\n",
       "    </tr>\n",
       "    <tr>\n",
       "      <th>zzgSiOnuUjnBnmfR-ZG4ww</th>\n",
       "      <td>1</td>\n",
       "      <td>0</td>\n",
       "      <td>1</td>\n",
       "    </tr>\n",
       "    <tr>\n",
       "      <th>zzgdTix-4eDMxtiyIhesMw</th>\n",
       "      <td>17</td>\n",
       "      <td>10</td>\n",
       "      <td>8</td>\n",
       "    </tr>\n",
       "    <tr>\n",
       "      <th>zzguctNQ68aKoe3upWaimw</th>\n",
       "      <td>60</td>\n",
       "      <td>14</td>\n",
       "      <td>7</td>\n",
       "    </tr>\n",
       "    <tr>\n",
       "      <th>zzjKekzQ6i4iR-qpo405Pw</th>\n",
       "      <td>20</td>\n",
       "      <td>9</td>\n",
       "      <td>17</td>\n",
       "    </tr>\n",
       "    <tr>\n",
       "      <th>zzjqFOujmM9surbMANZ_ag</th>\n",
       "      <td>12</td>\n",
       "      <td>0</td>\n",
       "      <td>1</td>\n",
       "    </tr>\n",
       "    <tr>\n",
       "      <th>zzkLY0npjBFX3gxGitmbUA</th>\n",
       "      <td>1</td>\n",
       "      <td>0</td>\n",
       "      <td>0</td>\n",
       "    </tr>\n",
       "    <tr>\n",
       "      <th>zzlZJVkEhOzR2tJOLHcF2A</th>\n",
       "      <td>103</td>\n",
       "      <td>34</td>\n",
       "      <td>51</td>\n",
       "    </tr>\n",
       "    <tr>\n",
       "      <th>zzm9aR0UHEEEYdsR_zKcuw</th>\n",
       "      <td>0</td>\n",
       "      <td>0</td>\n",
       "      <td>0</td>\n",
       "    </tr>\n",
       "    <tr>\n",
       "      <th>zzmIMvqiBJ_-wVKg_OnGpw</th>\n",
       "      <td>120</td>\n",
       "      <td>41</td>\n",
       "      <td>63</td>\n",
       "    </tr>\n",
       "    <tr>\n",
       "      <th>zzsKbL1KMNJqazSqBXskxQ</th>\n",
       "      <td>8</td>\n",
       "      <td>4</td>\n",
       "      <td>6</td>\n",
       "    </tr>\n",
       "    <tr>\n",
       "      <th>zzsOLFhgUw8gnjLTVVItFA</th>\n",
       "      <td>120</td>\n",
       "      <td>46</td>\n",
       "      <td>46</td>\n",
       "    </tr>\n",
       "    <tr>\n",
       "      <th>zzsU528uoRB6qZUGhKDa6w</th>\n",
       "      <td>19</td>\n",
       "      <td>15</td>\n",
       "      <td>15</td>\n",
       "    </tr>\n",
       "    <tr>\n",
       "      <th>zzt8omL4h_tdLYpY_rlZ4w</th>\n",
       "      <td>7</td>\n",
       "      <td>3</td>\n",
       "      <td>0</td>\n",
       "    </tr>\n",
       "    <tr>\n",
       "      <th>zztHqd_3ULxuIS8lkhYdwg</th>\n",
       "      <td>3</td>\n",
       "      <td>1</td>\n",
       "      <td>2</td>\n",
       "    </tr>\n",
       "    <tr>\n",
       "      <th>zzuOCWxuY39YJ1wnTwQ0Lg</th>\n",
       "      <td>7</td>\n",
       "      <td>0</td>\n",
       "      <td>0</td>\n",
       "    </tr>\n",
       "    <tr>\n",
       "      <th>zzvlwkcNR1CCqOPXwuvz2A</th>\n",
       "      <td>4</td>\n",
       "      <td>0</td>\n",
       "      <td>1</td>\n",
       "    </tr>\n",
       "    <tr>\n",
       "      <th>zzwaS0xn1MVEPEf0hNLjew</th>\n",
       "      <td>87</td>\n",
       "      <td>47</td>\n",
       "      <td>52</td>\n",
       "    </tr>\n",
       "    <tr>\n",
       "      <th>zzwhN7x37nyjP0ZM8oiHmw</th>\n",
       "      <td>54</td>\n",
       "      <td>8</td>\n",
       "      <td>30</td>\n",
       "    </tr>\n",
       "    <tr>\n",
       "      <th>zzwicjPC9g246MK2M1ZFBA</th>\n",
       "      <td>122</td>\n",
       "      <td>40</td>\n",
       "      <td>41</td>\n",
       "    </tr>\n",
       "    <tr>\n",
       "      <th>zzzaIBwimxVej4tY6qFOUQ</th>\n",
       "      <td>63</td>\n",
       "      <td>17</td>\n",
       "      <td>14</td>\n",
       "    </tr>\n",
       "  </tbody>\n",
       "</table>\n",
       "<p>192606 rows × 3 columns</p>\n",
       "</div>"
      ],
      "text/plain": [
       "                        useful  funny  cool\n",
       "business_id                                \n",
       "--1UhMGODdWsrMastO9DZw      17      1    16\n",
       "--6MefnULPED_I942VcFNA      61     30    35\n",
       "--7zmmkVg-IMGaXbuVd0SQ      86     30    65\n",
       "--8LPVSo5i0Oo61X01sV9A      11      0     0\n",
       "--9QQLMTbFzLJ_oT-ON3Xw       8      3     4\n",
       "--9e1ONYQuAa-CB_Rrw7Tw    1770    917  1183\n",
       "--DaPTJW3-tB1vP-PfdTEg      18      3    10\n",
       "--DdmeR16TRb3LsjG0ejrQ      18     15    14\n",
       "--EF5N7P70J_UYBTPypYlA       8      2     4\n",
       "--EX4rRznJrltyn-34Jz1w       5      3     3\n",
       "--FBCX-N37CMYDfs790Bnw     106     49    67\n",
       "--FLdgM0GNpXVMn74ppCGw       6      1     3\n",
       "--GM_ORV2cYS-h38DSaCLw       5      4     4\n",
       "--Gc998IMjLn8yr-HTzGUg       0      1     0\n",
       "--I7YYLada0tSLkORTHb5Q      37     21    22\n",
       "--KCl2FvVQpvjzmZSPyviA      15      2     7\n",
       "--KQsXc-clkO7oHRqGzSzg      53     25    20\n",
       "--Ni3oJ4VOqfOEu7Sj2Vzg       6      0     0\n",
       "--Rsj71PBe31h5YljVseKA       3      4     4\n",
       "--S62v0QgkqQaVUhFnNHrw      25      6     3\n",
       "--SrzpvFLwP_YFwB_Cetow      39     10    28\n",
       "--TcDRzRIxhvHM4DSgEuMA       2      0     0\n",
       "--U98MNlDym2cLn36BBPgQ       6      0     0\n",
       "--VMPfs4zfZJtQbqzJsNhg      54      9     0\n",
       "--WsruI0IGEoeRmkErU5Gg       8      1     4\n",
       "--Y7NhBKzLTbNliMUX_wfg       3      0     1\n",
       "--YPwqIlRJrhHkJcjY3eiA       1      1     1\n",
       "--ab39IjZR_xUf81WyTyHg      18      7    14\n",
       "--cZ6Hhc9F7VkKXxHMVZSQ     398    132   166\n",
       "--cgVkbWTiga3OYTkymKqA      10      3     3\n",
       "...                        ...    ...   ...\n",
       "zzTM2KyJkKomLDkl6rM4dQ      13      9     3\n",
       "zzUj3ej4vm_DtvRxNvWDEw     119     51    56\n",
       "zzXuJF6UUT1kgTyCsmgDmQ       6      0     2\n",
       "zzYaAiC0rLNSDiFQlMKOEQ      18      1     8\n",
       "zzYoocdehksv9_tg80a97w      12      2     0\n",
       "zzZfgEpwrpi4Ywdaj3OIuQ      40     11    34\n",
       "zzafWwri6ywvhvMsjS-l6w       2      0     3\n",
       "zzbsLej_8KtTxGwJdOb09w       3      4     2\n",
       "zze6IysT7bJFS8gvi6fZ2A      28     24    26\n",
       "zzf3RkMI1Y2E1QaZqeU8yA      40      4    14\n",
       "zzgSiOnuUjnBnmfR-ZG4ww       1      0     1\n",
       "zzgdTix-4eDMxtiyIhesMw      17     10     8\n",
       "zzguctNQ68aKoe3upWaimw      60     14     7\n",
       "zzjKekzQ6i4iR-qpo405Pw      20      9    17\n",
       "zzjqFOujmM9surbMANZ_ag      12      0     1\n",
       "zzkLY0npjBFX3gxGitmbUA       1      0     0\n",
       "zzlZJVkEhOzR2tJOLHcF2A     103     34    51\n",
       "zzm9aR0UHEEEYdsR_zKcuw       0      0     0\n",
       "zzmIMvqiBJ_-wVKg_OnGpw     120     41    63\n",
       "zzsKbL1KMNJqazSqBXskxQ       8      4     6\n",
       "zzsOLFhgUw8gnjLTVVItFA     120     46    46\n",
       "zzsU528uoRB6qZUGhKDa6w      19     15    15\n",
       "zzt8omL4h_tdLYpY_rlZ4w       7      3     0\n",
       "zztHqd_3ULxuIS8lkhYdwg       3      1     2\n",
       "zzuOCWxuY39YJ1wnTwQ0Lg       7      0     0\n",
       "zzvlwkcNR1CCqOPXwuvz2A       4      0     1\n",
       "zzwaS0xn1MVEPEf0hNLjew      87     47    52\n",
       "zzwhN7x37nyjP0ZM8oiHmw      54      8    30\n",
       "zzwicjPC9g246MK2M1ZFBA     122     40    41\n",
       "zzzaIBwimxVej4tY6qFOUQ      63     17    14\n",
       "\n",
       "[192606 rows x 3 columns]"
      ]
     },
     "execution_count": 17,
     "metadata": {},
     "output_type": "execute_result"
    }
   ],
   "source": [
    "test"
   ]
  },
  {
   "cell_type": "code",
   "execution_count": 18,
   "metadata": {},
   "outputs": [],
   "source": [
    "open_business = pd.merge(open_busi_df, right = test, how = \"inner\", on = 'business_id')"
   ]
  },
  {
   "cell_type": "code",
   "execution_count": 19,
   "metadata": {},
   "outputs": [
    {
     "name": "stdout",
     "output_type": "stream",
     "text": [
      "1\n",
      "2\n"
     ]
    },
    {
     "data": {
      "text/plain": [
       "Reviews_no    35.496152\n",
       "stars          3.609770\n",
       "useful        48.788263\n",
       "funny         17.017121\n",
       "cool          20.782825\n",
       "dtype: float64"
      ]
     },
     "execution_count": 19,
     "metadata": {},
     "output_type": "execute_result"
    }
   ],
   "source": [
    "open_business['stars'] = open_business['stars'].astype(float)\n",
    "open_business['Reviews_no'] = open_business['Reviews_no'].astype(float)\n",
    "print(1)\n",
    "open_bus_conc = open_business.mean()\n",
    "print(2)\n",
    "open_bus_conc"
   ]
  },
  {
   "cell_type": "code",
   "execution_count": 20,
   "metadata": {},
   "outputs": [],
   "source": [
    "close_business = pd.merge(close_busi_df, right = test, how = \"inner\", on = 'business_id')"
   ]
  },
  {
   "cell_type": "code",
   "execution_count": 21,
   "metadata": {},
   "outputs": [],
   "source": [
    "close_business['stars'] = close_business['stars'].astype(float)\n",
    "close_business['Reviews_no'] = close_business['Reviews_no'].astype(float)"
   ]
  },
  {
   "cell_type": "code",
   "execution_count": 22,
   "metadata": {},
   "outputs": [
    {
     "data": {
      "text/plain": [
       "Reviews_no    24.438358\n",
       "stars          3.473257\n",
       "useful        38.715849\n",
       "funny         15.553984\n",
       "cool          16.872110\n",
       "dtype: float64"
      ]
     },
     "execution_count": 22,
     "metadata": {},
     "output_type": "execute_result"
    }
   ],
   "source": [
    "close_bus_conc = close_business.mean()\n",
    "close_bus_conc"
   ]
  },
  {
   "cell_type": "code",
   "execution_count": 23,
   "metadata": {},
   "outputs": [
    {
     "data": {
      "image/png": "[encoded data removed]",
      "text/plain": [
       "<Figure size 432x288 with 1 Axes>"
      ]
     },
     "metadata": {
      "needs_background": "light"
     },
     "output_type": "display_data"
    },
    {
     "data": {
      "text/plain": [
       "<Figure size 1440x1224 with 0 Axes>"
      ]
     },
     "metadata": {},
     "output_type": "display_data"
    }
   ],
   "source": [
    "fig, ax = plt.subplots()\n",
    "plt.figure(figsize = (20,17))\n",
    "ax = open_bus_conc.plot(y = [\"Reviews_no\", \"stars\", \"useful\", \"funny\", \"cool\"], ax = ax)\n",
    "close_bus_conc.plot(y = [\"Reviews_no\", \"stars\", \"useful\", \"funny\", \"cool\"], ax = ax, ls = \"--\")\n",
    "plt.show()"
   ]
  },
  {
   "cell_type": "code",
   "execution_count": 24,
   "metadata": {},
   "outputs": [],
   "source": [
    "busi_ml = pd.DataFrame(yelp_business[['business_id', \"review_count\", \"stars\", \"is_open\"]].values, columns = ['business_id', \"Reviews_no\", \"stars\", \"Open status\"])"
   ]
  },
  {
   "cell_type": "code",
   "execution_count": 25,
   "metadata": {},
   "outputs": [
    {
     "data": {
      "text/html": [
       "<div>\n",
       "<style scoped>\n",
       "    .dataframe tbody tr th:only-of-type {\n",
       "        vertical-align: middle;\n",
       "    }\n",
       "\n",
       "    .dataframe tbody tr th {\n",
       "        vertical-align: top;\n",
       "    }\n",
       "\n",
       "    .dataframe thead th {\n",
       "        text-align: right;\n",
       "    }\n",
       "</style>\n",
       "<table border=\"1\" class=\"dataframe\">\n",
       "  <thead>\n",
       "    <tr style=\"text-align: right;\">\n",
       "      <th></th>\n",
       "      <th>business_id</th>\n",
       "      <th>Reviews_no</th>\n",
       "      <th>stars</th>\n",
       "      <th>Open status</th>\n",
       "    </tr>\n",
       "  </thead>\n",
       "  <tbody>\n",
       "    <tr>\n",
       "      <th>0</th>\n",
       "      <td>1SWheh84yJXfytovILXOAQ</td>\n",
       "      <td>5</td>\n",
       "      <td>3</td>\n",
       "      <td>0</td>\n",
       "    </tr>\n",
       "    <tr>\n",
       "      <th>1</th>\n",
       "      <td>QXAEGFB4oINsVuTFxEYKFQ</td>\n",
       "      <td>128</td>\n",
       "      <td>2.5</td>\n",
       "      <td>1</td>\n",
       "    </tr>\n",
       "    <tr>\n",
       "      <th>2</th>\n",
       "      <td>gnKjwL_1w79qoiV3IC_xQQ</td>\n",
       "      <td>170</td>\n",
       "      <td>4</td>\n",
       "      <td>1</td>\n",
       "    </tr>\n",
       "    <tr>\n",
       "      <th>3</th>\n",
       "      <td>xvX2CttrVhyG2z1dFg_0xw</td>\n",
       "      <td>3</td>\n",
       "      <td>5</td>\n",
       "      <td>1</td>\n",
       "    </tr>\n",
       "    <tr>\n",
       "      <th>4</th>\n",
       "      <td>HhyxOkGAM07SRYtlQ4wMFQ</td>\n",
       "      <td>4</td>\n",
       "      <td>4</td>\n",
       "      <td>1</td>\n",
       "    </tr>\n",
       "  </tbody>\n",
       "</table>\n",
       "</div>"
      ],
      "text/plain": [
       "              business_id Reviews_no stars Open status\n",
       "0  1SWheh84yJXfytovILXOAQ          5     3           0\n",
       "1  QXAEGFB4oINsVuTFxEYKFQ        128   2.5           1\n",
       "2  gnKjwL_1w79qoiV3IC_xQQ        170     4           1\n",
       "3  xvX2CttrVhyG2z1dFg_0xw          3     5           1\n",
       "4  HhyxOkGAM07SRYtlQ4wMFQ          4     4           1"
      ]
     },
     "execution_count": 25,
     "metadata": {},
     "output_type": "execute_result"
    }
   ],
   "source": [
    "busi_ml.head()"
   ]
  },
  {
   "cell_type": "code",
   "execution_count": 26,
   "metadata": {},
   "outputs": [],
   "source": [
    "business_set = pd.merge(busi_ml, right = test, how = \"inner\", on = 'business_id')"
   ]
  },
  {
   "cell_type": "code",
   "execution_count": 27,
   "metadata": {},
   "outputs": [],
   "source": [
    "business_set['stars'] = business_set['stars'].astype(float)\n",
    "business_set['Reviews_no'] = business_set['Reviews_no'].astype(float)\n",
    "business_set['Open status'] = business_set['Open status'].astype(float)"
   ]
  },
  {
   "cell_type": "code",
   "execution_count": 28,
   "metadata": {},
   "outputs": [
    {
     "name": "stdout",
     "output_type": "stream",
     "text": [
      "<class 'pandas.core.frame.DataFrame'>\n",
      "Int64Index: 192606 entries, 0 to 192605\n",
      "Data columns (total 7 columns):\n",
      "business_id    192606 non-null object\n",
      "Reviews_no     192606 non-null float64\n",
      "stars          192606 non-null float64\n",
      "Open status    192606 non-null float64\n",
      "useful         192606 non-null int64\n",
      "funny          192606 non-null int64\n",
      "cool           192606 non-null int64\n",
      "dtypes: float64(3), int64(3), object(1)\n",
      "memory usage: 11.8+ MB\n"
     ]
    }
   ],
   "source": [
    "business_set.info()"
   ]
  },
  {
   "cell_type": "code",
   "execution_count": 29,
   "metadata": {},
   "outputs": [],
   "source": [
    "business_set = business_set.dropna(subset = ['business_id', \"Reviews_no\", \"stars\", \"useful\", \"funny\", \"cool\"])"
   ]
  },
  {
   "cell_type": "code",
   "execution_count": 30,
   "metadata": {},
   "outputs": [
    {
     "name": "stdout",
     "output_type": "stream",
     "text": [
      "<class 'pandas.core.frame.DataFrame'>\n",
      "Int64Index: 192606 entries, 0 to 192605\n",
      "Data columns (total 7 columns):\n",
      "business_id    192606 non-null object\n",
      "Reviews_no     192606 non-null float64\n",
      "stars          192606 non-null float64\n",
      "Open status    192606 non-null float64\n",
      "useful         192606 non-null int64\n",
      "funny          192606 non-null int64\n",
      "cool           192606 non-null int64\n",
      "dtypes: float64(3), int64(3), object(1)\n",
      "memory usage: 11.8+ MB\n"
     ]
    }
   ],
   "source": [
    "business_set.info()"
   ]
  },
  {
   "cell_type": "code",
   "execution_count": 43,
   "metadata": {},
   "outputs": [],
   "source": [
    "X = business_set[[\"Reviews_no\", \"stars\", \"useful\", \"funny\", \"cool\"]]\n",
    "y = business_set['Open status']"
   ]
  },
  {
   "cell_type": "code",
   "execution_count": 44,
   "metadata": {},
   "outputs": [],
   "source": [
    "from sklearn.model_selection import GridSearchCV\n",
    "from sklearn.ensemble import GradientBoostingClassifier"
   ]
  },
  {
   "cell_type": "code",
   "execution_count": 45,
   "metadata": {},
   "outputs": [
    {
     "name": "stderr",
     "output_type": "stream",
     "text": [
      "C:\\Users\\adity\\Anaconda3\\lib\\site-packages\\sklearn\\linear_model\\logistic.py:432: FutureWarning: Default solver will be changed to 'lbfgs' in 0.22. Specify a solver to silence this warning.\n",
      "  FutureWarning)\n"
     ]
    }
   ],
   "source": [
    "from sklearn.linear_model import LogisticRegression\n",
    "from sklearn.model_selection import cross_val_score\n",
    "model = LogisticRegression().fit(X, y)"
   ]
  },
  {
   "cell_type": "code",
   "execution_count": 33,
   "metadata": {},
   "outputs": [
    {
     "name": "stderr",
     "output_type": "stream",
     "text": [
      "C:\\Users\\adity\\Anaconda3\\lib\\site-packages\\sklearn\\linear_model\\logistic.py:432: FutureWarning: Default solver will be changed to 'lbfgs' in 0.22. Specify a solver to silence this warning.\n",
      "  FutureWarning)\n",
      "C:\\Users\\adity\\Anaconda3\\lib\\site-packages\\sklearn\\linear_model\\logistic.py:432: FutureWarning: Default solver will be changed to 'lbfgs' in 0.22. Specify a solver to silence this warning.\n",
      "  FutureWarning)\n",
      "C:\\Users\\adity\\Anaconda3\\lib\\site-packages\\sklearn\\linear_model\\logistic.py:432: FutureWarning: Default solver will be changed to 'lbfgs' in 0.22. Specify a solver to silence this warning.\n",
      "  FutureWarning)\n",
      "C:\\Users\\adity\\Anaconda3\\lib\\site-packages\\sklearn\\linear_model\\logistic.py:432: FutureWarning: Default solver will be changed to 'lbfgs' in 0.22. Specify a solver to silence this warning.\n",
      "  FutureWarning)\n",
      "C:\\Users\\adity\\Anaconda3\\lib\\site-packages\\sklearn\\linear_model\\logistic.py:432: FutureWarning: Default solver will be changed to 'lbfgs' in 0.22. Specify a solver to silence this warning.\n",
      "  FutureWarning)\n"
     ]
    }
   ],
   "source": [
    "CV_class_score = cross_val_score(LogisticRegression(max_iter = 500), X, y, cv = 5, scoring = 'accuracy')"
   ]
  },
  {
   "cell_type": "code",
   "execution_count": 34,
   "metadata": {},
   "outputs": [
    {
     "data": {
      "text/plain": [
       "array([0.82290639, 0.82254296, 0.82297967, 0.82282391, 0.82294912])"
      ]
     },
     "execution_count": 34,
     "metadata": {},
     "output_type": "execute_result"
    }
   ],
   "source": [
    "CV_class_score"
   ]
  },
  {
   "cell_type": "code",
   "execution_count": 35,
   "metadata": {},
   "outputs": [
    {
     "name": "stdout",
     "output_type": "stream",
     "text": [
      "Accuracy with a Logistic Regression classifier\n",
      "0.8228404117222488\n"
     ]
    }
   ],
   "source": [
    "print(\"Accuracy with a Logistic Regression classifier\")\n",
    "print(CV_class_score.mean())"
   ]
  },
  {
   "cell_type": "code",
   "execution_count": 36,
   "metadata": {},
   "outputs": [],
   "source": [
    "from sklearn.naive_bayes import GaussianNB\n",
    "gaus_model = GaussianNB().fit(X, y)"
   ]
  },
  {
   "cell_type": "code",
   "execution_count": 37,
   "metadata": {},
   "outputs": [],
   "source": [
    "cv_gaus_score = cross_val_score(GaussianNB(), X, y, cv = 5,scoring = 'accuracy')"
   ]
  },
  {
   "cell_type": "code",
   "execution_count": 38,
   "metadata": {},
   "outputs": [
    {
     "data": {
      "text/plain": [
       "array([0.50443902, 0.81914231, 0.82077308, 0.82129228, 0.82037902])"
      ]
     },
     "execution_count": 38,
     "metadata": {},
     "output_type": "execute_result"
    }
   ],
   "source": [
    "cv_gaus_score"
   ]
  },
  {
   "cell_type": "code",
   "execution_count": 39,
   "metadata": {},
   "outputs": [
    {
     "name": "stdout",
     "output_type": "stream",
     "text": [
      "Accuracy with a Gaussian Naive Bayes classifier\n",
      "0.7572051441950818\n"
     ]
    }
   ],
   "source": [
    "print(\"Accuracy with a Gaussian Naive Bayes classifier\")\n",
    "print(cv_gaus_score.mean())"
   ]
  },
  {
   "cell_type": "code",
   "execution_count": 46,
   "metadata": {},
   "outputs": [
    {
     "name": "stderr",
     "output_type": "stream",
     "text": [
      "C:\\Users\\adity\\Anaconda3\\lib\\site-packages\\sklearn\\model_selection\\_split.py:1978: FutureWarning: The default value of cv will change from 3 to 5 in version 0.22. Specify it explicitly to silence this warning.\n",
      "  warnings.warn(CV_WARNING, FutureWarning)\n"
     ]
    },
    {
     "data": {
      "text/plain": [
       "GridSearchCV(cv='warn', error_score='raise-deprecating',\n",
       "             estimator=GradientBoostingClassifier(criterion='friedman_mse',\n",
       "                                                  init=None, learning_rate=0.1,\n",
       "                                                  loss='deviance', max_depth=3,\n",
       "                                                  max_features=None,\n",
       "                                                  max_leaf_nodes=None,\n",
       "                                                  min_impurity_decrease=0.0,\n",
       "                                                  min_impurity_split=None,\n",
       "                                                  min_samples_leaf=1,\n",
       "                                                  min_samples_split=2,\n",
       "                                                  min_weight_fraction_leaf=0.0,\n",
       "                                                  n_estimators=100,\n",
       "                                                  n_iter_no_change=None,\n",
       "                                                  presort='auto',\n",
       "                                                  random_state=None,\n",
       "                                                  subsample=1.0, tol=0.0001,\n",
       "                                                  validation_fraction=0.1,\n",
       "                                                  verbose=0, warm_start=False),\n",
       "             iid='warn', n_jobs=None,\n",
       "             param_grid={'learning_rate': [1, 0.1, 0.01], 'max_depth': [3, 4]},\n",
       "             pre_dispatch='2*n_jobs', refit=True, return_train_score=False,\n",
       "             scoring='accuracy', verbose=0)"
      ]
     },
     "execution_count": 46,
     "metadata": {},
     "output_type": "execute_result"
    }
   ],
   "source": [
    "from sklearn.model_selection import GridSearchCV\n",
    "parameters = {'learning_rate': [pow(10, -1*i) for i in range(0, 3)], 'max_depth':[3, 4]}\n",
    "gbt_business = GridSearchCV(GradientBoostingClassifier(), parameters, scoring = 'accuracy')\n",
    "gbt_business.fit(X, y)"
   ]
  },
  {
   "cell_type": "code",
   "execution_count": 47,
   "metadata": {},
   "outputs": [
    {
     "data": {
      "text/plain": [
       "{'mean_fit_time': array([18.09853641, 23.32213863, 18.00089614, 24.30876573, 19.50924897,\n",
       "        25.78313462]),\n",
       " 'std_fit_time': array([1.06656635, 0.43151267, 0.11419662, 0.13715511, 0.24428608,\n",
       "        0.0973165 ]),\n",
       " 'mean_score_time': array([0.2709736 , 0.29290644, 0.30832148, 0.35190701, 0.35629296,\n",
       "        0.46751976]),\n",
       " 'std_score_time': array([0.02005225, 0.01318041, 0.00241431, 0.01133114, 0.02004917,\n",
       "        0.00205771]),\n",
       " 'param_learning_rate': masked_array(data=[1, 1, 0.1, 0.1, 0.01, 0.01],\n",
       "              mask=[False, False, False, False, False, False],\n",
       "        fill_value='?',\n",
       "             dtype=object),\n",
       " 'param_max_depth': masked_array(data=[3, 4, 3, 4, 3, 4],\n",
       "              mask=[False, False, False, False, False, False],\n",
       "        fill_value='?',\n",
       "             dtype=object),\n",
       " 'params': [{'learning_rate': 1, 'max_depth': 3},\n",
       "  {'learning_rate': 1, 'max_depth': 4},\n",
       "  {'learning_rate': 0.1, 'max_depth': 3},\n",
       "  {'learning_rate': 0.1, 'max_depth': 4},\n",
       "  {'learning_rate': 0.01, 'max_depth': 3},\n",
       "  {'learning_rate': 0.01, 'max_depth': 4}],\n",
       " 'split0_test_score': array([0.82095852, 0.81781225, 0.8230145 , 0.82298335, 0.82303008,\n",
       "        0.82303008]),\n",
       " 'split1_test_score': array([0.82136071, 0.81746675, 0.82302732, 0.8230429 , 0.8230429 ,\n",
       "        0.8230429 ]),\n",
       " 'split2_test_score': array([0.82140465, 0.81858538, 0.82304014, 0.82300899, 0.82304014,\n",
       "        0.82304014]),\n",
       " 'mean_test_score': array([0.82124129, 0.81795479, 0.82302732, 0.82301174, 0.8230377 ,\n",
       "        0.8230377 ]),\n",
       " 'std_test_score': array([2.00752995e-04, 4.67668949e-04, 1.04669480e-05, 2.43877472e-05,\n",
       "        5.50960688e-06, 5.50960688e-06]),\n",
       " 'rank_test_score': array([5, 6, 3, 4, 1, 1])}"
      ]
     },
     "execution_count": 47,
     "metadata": {},
     "output_type": "execute_result"
    }
   ],
   "source": [
    "gbt_business.cv_results_"
   ]
  },
  {
   "cell_type": "code",
   "execution_count": 48,
   "metadata": {},
   "outputs": [
    {
     "name": "stdout",
     "output_type": "stream",
     "text": [
      "Accuracy with Gradient Boosting tree classifier: \n"
     ]
    },
    {
     "data": {
      "text/plain": [
       "0.8230377039136891"
      ]
     },
     "execution_count": 48,
     "metadata": {},
     "output_type": "execute_result"
    }
   ],
   "source": [
    "print(\"Accuracy with Gradient Boosting tree classifier: \")\n",
    "max(gbt_business.cv_results_['mean_test_score'])"
   ]
  },
  {
   "cell_type": "code",
   "execution_count": 49,
   "metadata": {},
   "outputs": [
    {
     "name": "stderr",
     "output_type": "stream",
     "text": [
      "C:\\Users\\adity\\Anaconda3\\lib\\site-packages\\sklearn\\model_selection\\_split.py:1978: FutureWarning: The default value of cv will change from 3 to 5 in version 0.22. Specify it explicitly to silence this warning.\n",
      "  warnings.warn(CV_WARNING, FutureWarning)\n"
     ]
    },
    {
     "data": {
      "text/plain": [
       "GridSearchCV(cv='warn', error_score='raise-deprecating',\n",
       "             estimator=GradientBoostingClassifier(criterion='friedman_mse',\n",
       "                                                  init=None, learning_rate=0.1,\n",
       "                                                  loss='deviance', max_depth=3,\n",
       "                                                  max_features=None,\n",
       "                                                  max_leaf_nodes=None,\n",
       "                                                  min_impurity_decrease=0.0,\n",
       "                                                  min_impurity_split=None,\n",
       "                                                  min_samples_leaf=1,\n",
       "                                                  min_samples_split=2,\n",
       "                                                  min_weight_fraction_leaf=0.0,\n",
       "                                                  n_estimators=100,\n",
       "                                                  n_iter_no_change=None,\n",
       "                                                  presort='auto',\n",
       "                                                  random_state=None,\n",
       "                                                  subsample=1.0, tol=0.0001,\n",
       "                                                  validation_fraction=0.1,\n",
       "                                                  verbose=0, warm_start=False),\n",
       "             iid='warn', n_jobs=None,\n",
       "             param_grid={'learning_rate': [1, 0.1, 0.01], 'max_depth': [3, 4]},\n",
       "             pre_dispatch='2*n_jobs', refit=True, return_train_score=False,\n",
       "             scoring='roc_auc', verbose=0)"
      ]
     },
     "execution_count": 49,
     "metadata": {},
     "output_type": "execute_result"
    }
   ],
   "source": [
    "parameters = {'learning_rate': [pow(10, -1*i) for i in range(0, 3)], 'max_depth':[3,4]}\n",
    "gbt_business_roc = GridSearchCV(GradientBoostingClassifier(), parameters, scoring = 'roc_auc')\n",
    "gbt_business_roc.fit(X, y)"
   ]
  },
  {
   "cell_type": "code",
   "execution_count": 50,
   "metadata": {},
   "outputs": [
    {
     "data": {
      "text/plain": [
       "{'mean_fit_time': array([15.76291855, 22.48321605, 17.95235221, 23.21378493, 19.11377708,\n",
       "        26.89315788]),\n",
       " 'std_fit_time': array([0.22788921, 0.84635845, 0.33126384, 0.48895147, 0.16874082,\n",
       "        1.74864156]),\n",
       " 'mean_score_time': array([0.33946196, 0.3323524 , 0.34748149, 0.38919743, 0.44173249,\n",
       "        0.53690163]),\n",
       " 'std_score_time': array([0.06778794, 0.00781902, 0.02698248, 0.01966016, 0.05058556,\n",
       "        0.08898601]),\n",
       " 'param_learning_rate': masked_array(data=[1, 1, 0.1, 0.1, 0.01, 0.01],\n",
       "              mask=[False, False, False, False, False, False],\n",
       "        fill_value='?',\n",
       "             dtype=object),\n",
       " 'param_max_depth': masked_array(data=[3, 4, 3, 4, 3, 4],\n",
       "              mask=[False, False, False, False, False, False],\n",
       "        fill_value='?',\n",
       "             dtype=object),\n",
       " 'params': [{'learning_rate': 1, 'max_depth': 3},\n",
       "  {'learning_rate': 1, 'max_depth': 4},\n",
       "  {'learning_rate': 0.1, 'max_depth': 3},\n",
       "  {'learning_rate': 0.1, 'max_depth': 4},\n",
       "  {'learning_rate': 0.01, 'max_depth': 3},\n",
       "  {'learning_rate': 0.01, 'max_depth': 4}],\n",
       " 'split0_test_score': array([0.63571092, 0.62660267, 0.6427141 , 0.6441532 , 0.61530147,\n",
       "        0.62329235]),\n",
       " 'split1_test_score': array([0.6387805 , 0.63025408, 0.64242614, 0.64530272, 0.61804277,\n",
       "        0.62511429]),\n",
       " 'split2_test_score': array([0.63784848, 0.63236283, 0.64251965, 0.64571455, 0.61931387,\n",
       "        0.62677647]),\n",
       " 'mean_test_score': array([0.63744662, 0.62973983, 0.6425533 , 0.64505681, 0.61755268,\n",
       "        0.62506102]),\n",
       " 'std_test_score': array([0.00128496, 0.00237952, 0.00011994, 0.00066071, 0.00167431,\n",
       "        0.00142289]),\n",
       " 'rank_test_score': array([3, 4, 2, 1, 6, 5])}"
      ]
     },
     "execution_count": 50,
     "metadata": {},
     "output_type": "execute_result"
    }
   ],
   "source": [
    "gbt_business_roc.cv_results_"
   ]
  },
  {
   "cell_type": "code",
   "execution_count": 51,
   "metadata": {},
   "outputs": [],
   "source": [
    "from sklearn.neighbors import KNeighborsClassifier\n",
    "k_model = KNeighborsClassifier(n_neighbors =5 ).fit(X, y)"
   ]
  },
  {
   "cell_type": "code",
   "execution_count": 52,
   "metadata": {},
   "outputs": [],
   "source": [
    "CV_K_score = cross_val_score(KNeighborsClassifier(n_neighbors = 5), X, y, cv = 5,scoring = 'accuracy')"
   ]
  },
  {
   "cell_type": "code",
   "execution_count": 53,
   "metadata": {},
   "outputs": [
    {
     "data": {
      "text/plain": [
       "array([0.79455895, 0.78949691, 0.79631889, 0.79504686, 0.79244548])"
      ]
     },
     "execution_count": 53,
     "metadata": {},
     "output_type": "execute_result"
    }
   ],
   "source": [
    "CV_K_score"
   ]
  },
  {
   "cell_type": "code",
   "execution_count": 54,
   "metadata": {},
   "outputs": [
    {
     "name": "stdout",
     "output_type": "stream",
     "text": [
      "Accuracy with K Nearest Neighbors Classifier\n",
      "0.7935734191200575\n"
     ]
    }
   ],
   "source": [
    "print(\"Accuracy with K Nearest Neighbors Classifier\")\n",
    "print(CV_K_score.mean())"
   ]
  },
  {
   "cell_type": "code",
   "execution_count": 55,
   "metadata": {},
   "outputs": [],
   "source": [
    "from sklearn.tree import DecisionTreeClassifier\n",
    "from sklearn.ensemble import RandomForestClassifier"
   ]
  },
  {
   "cell_type": "code",
   "execution_count": 56,
   "metadata": {},
   "outputs": [],
   "source": [
    "dtree_model = DecisionTreeClassifier(random_state = 0, max_depth = 5).fit(X, y)\n",
    "CV_dtree_score = cross_val_score(DecisionTreeClassifier(random_state = 0, max_depth = 5), X, y, cv = 5, scoring = 'accuracy')"
   ]
  },
  {
   "cell_type": "code",
   "execution_count": 57,
   "metadata": {},
   "outputs": [
    {
     "data": {
      "text/plain": [
       "array([0.82303619, 0.82301023, 0.82300563, 0.82303159, 0.82305296])"
      ]
     },
     "execution_count": 57,
     "metadata": {},
     "output_type": "execute_result"
    }
   ],
   "source": [
    "CV_dtree_score"
   ]
  },
  {
   "cell_type": "code",
   "execution_count": 58,
   "metadata": {},
   "outputs": [
    {
     "name": "stdout",
     "output_type": "stream",
     "text": [
      "Accuracy with Decision Tree Classifier\n",
      "0.8230273201970068\n"
     ]
    }
   ],
   "source": [
    "print(\"Accuracy with Decision Tree Classifier\")\n",
    "print(CV_dtree_score.mean())"
   ]
  },
  {
   "cell_type": "code",
   "execution_count": 59,
   "metadata": {},
   "outputs": [
    {
     "name": "stderr",
     "output_type": "stream",
     "text": [
      "C:\\Users\\adity\\Anaconda3\\lib\\site-packages\\sklearn\\ensemble\\forest.py:245: FutureWarning: The default value of n_estimators will change from 10 in version 0.20 to 100 in 0.22.\n",
      "  \"10 in version 0.20 to 100 in 0.22.\", FutureWarning)\n",
      "C:\\Users\\adity\\Anaconda3\\lib\\site-packages\\sklearn\\ensemble\\forest.py:245: FutureWarning: The default value of n_estimators will change from 10 in version 0.20 to 100 in 0.22.\n",
      "  \"10 in version 0.20 to 100 in 0.22.\", FutureWarning)\n",
      "C:\\Users\\adity\\Anaconda3\\lib\\site-packages\\sklearn\\ensemble\\forest.py:245: FutureWarning: The default value of n_estimators will change from 10 in version 0.20 to 100 in 0.22.\n",
      "  \"10 in version 0.20 to 100 in 0.22.\", FutureWarning)\n",
      "C:\\Users\\adity\\Anaconda3\\lib\\site-packages\\sklearn\\ensemble\\forest.py:245: FutureWarning: The default value of n_estimators will change from 10 in version 0.20 to 100 in 0.22.\n",
      "  \"10 in version 0.20 to 100 in 0.22.\", FutureWarning)\n",
      "C:\\Users\\adity\\Anaconda3\\lib\\site-packages\\sklearn\\ensemble\\forest.py:245: FutureWarning: The default value of n_estimators will change from 10 in version 0.20 to 100 in 0.22.\n",
      "  \"10 in version 0.20 to 100 in 0.22.\", FutureWarning)\n"
     ]
    }
   ],
   "source": [
    "rforest_model = RandomForestClassifier(max_depth = 5, n_estimators = 10).fit(X, y)\n",
    "CV_rforest_score = cross_val_score(RandomForestClassifier(random_state = 0, max_depth = 3, max_features = 1), X, y, cv = 5, scoring = 'accuracy')"
   ]
  },
  {
   "cell_type": "code",
   "execution_count": 60,
   "metadata": {},
   "outputs": [
    {
     "data": {
      "text/plain": [
       "array([0.82303619, 0.82303619, 0.82303159, 0.82303159, 0.82305296])"
      ]
     },
     "execution_count": 60,
     "metadata": {},
     "output_type": "execute_result"
    }
   ],
   "source": [
    "CV_rforest_score"
   ]
  },
  {
   "cell_type": "code",
   "execution_count": 61,
   "metadata": {},
   "outputs": [
    {
     "name": "stdout",
     "output_type": "stream",
     "text": [
      "Accuracy with Decision Tree Classifier\n",
      "0.8230273201970068\n"
     ]
    }
   ],
   "source": [
    "print(\"Accuracy with Decision Tree Classifier\")\n",
    "print(CV_dtree_score.mean())"
   ]
  },
  {
   "cell_type": "code",
   "execution_count": 62,
   "metadata": {},
   "outputs": [],
   "source": [
    "import warnings;\n",
    "warnings.filterwarnings('ignore')"
   ]
  },
  {
   "cell_type": "code",
   "execution_count": 63,
   "metadata": {},
   "outputs": [],
   "source": [
    "from sklearn.svm import LinearSVC\n",
    "lin_svm_model = LinearSVC(random_state = 0, tol = 1e-5, max_iter = 1000).fit(X, y)\n",
    "CV_lin_svm_score = cross_val_score(LinearSVC(random_state = 0, tol = 1e-5, max_iter = 1000), X, y, cv = 5,scoring = 'accuracy')"
   ]
  },
  {
   "cell_type": "code",
   "execution_count": 64,
   "metadata": {},
   "outputs": [
    {
     "name": "stdout",
     "output_type": "stream",
     "text": [
      "Accuracy with Linear SVM Classifier\n",
      "0.7680859362489804\n"
     ]
    }
   ],
   "source": [
    "print(\"Accuracy with Linear SVM Classifier\")\n",
    "print(CV_lin_svm_score.mean())"
   ]
  },
  {
   "cell_type": "code",
   "execution_count": 65,
   "metadata": {},
   "outputs": [],
   "source": [
    "from sklearn import linear_model"
   ]
  },
  {
   "cell_type": "code",
   "execution_count": 66,
   "metadata": {},
   "outputs": [
    {
     "data": {
      "text/plain": [
       "array([0.81942786, 0.75245314, 0.7747722 , 0.822123  , 0.57227414])"
      ]
     },
     "execution_count": 66,
     "metadata": {},
     "output_type": "execute_result"
    }
   ],
   "source": [
    "sgd_class_model_1 = linear_model.SGDClassifier(max_iter = 1500, tol = 1e-3, penalty = 'l2').fit(X, y)\n",
    "CV_sgd_class_score_1 = cross_val_score(linear_model.SGDClassifier(max_iter = 1500, tol = 1e-3, penalty = 'l2'), X, y, cv = 5, scoring = 'accuracy')\n",
    "CV_sgd_class_score_1"
   ]
  },
  {
   "cell_type": "code",
   "execution_count": 68,
   "metadata": {},
   "outputs": [
    {
     "name": "stdout",
     "output_type": "stream",
     "text": [
      "Accuracy with SGD trained Classifier\n",
      "0.7482100692772267\n"
     ]
    }
   ],
   "source": [
    "print(\"Accuracy with SGD trained Classifier\")\n",
    "print(CV_sgd_class_score_1.mean())"
   ]
  },
  {
   "cell_type": "code",
   "execution_count": 69,
   "metadata": {},
   "outputs": [],
   "source": [
    "from sklearn.neural_network import MLPClassifier"
   ]
  },
  {
   "cell_type": "code",
   "execution_count": 70,
   "metadata": {},
   "outputs": [
    {
     "data": {
      "text/plain": [
       "array([0.82303619, 0.82303619, 0.82303159, 0.82297967, 0.82305296])"
      ]
     },
     "execution_count": 70,
     "metadata": {},
     "output_type": "execute_result"
    }
   ],
   "source": [
    "mlp_model = MLPClassifier(solver = 'sgd', alpha = 1e-4, hidden_layer_sizes = (5, 3), random_state = 1).fit(X, y)\n",
    "CV_mlp_model_score = cross_val_score(MLPClassifier(solver = 'sgd', alpha = 1e-4, hidden_layer_sizes = (5, 3), random_state = 1), X, y, cv = 5, scoring = 'accuracy')\n",
    "CV_mlp_model_score"
   ]
  },
  {
   "cell_type": "code",
   "execution_count": 71,
   "metadata": {},
   "outputs": [
    {
     "name": "stdout",
     "output_type": "stream",
     "text": [
      "Accuracy with a Multi Layer perceptron Classifier\n",
      "0.8230273200622273\n"
     ]
    }
   ],
   "source": [
    "print(\"Accuracy with a Multi Layer perceptron Classifier\")\n",
    "print(CV_mlp_model_score.mean())"
   ]
  },
  {
   "cell_type": "code",
   "execution_count": 72,
   "metadata": {},
   "outputs": [
    {
     "data": {
      "text/plain": [
       "array([0.82303619, 0.82280255, 0.82303159, 0.82303159, 0.823027  ])"
      ]
     },
     "execution_count": 72,
     "metadata": {},
     "output_type": "execute_result"
    }
   ],
   "source": [
    "mlp_model_1 = MLPClassifier(solver = 'adam', alpha = 1e-4, hidden_layer_sizes = (5,5), random_state = 1).fit(X, y)\n",
    "CV_mlp_model_score_1 = cross_val_score(MLPClassifier(solver = 'adam', alpha = 1e-4, hidden_layer_sizes = (5, 5), random_state = 1), X, y, cv = 5, scoring = 'accuracy')\n",
    "CV_mlp_model_score_1"
   ]
  },
  {
   "cell_type": "code",
   "execution_count": null,
   "metadata": {},
   "outputs": [],
   "source": []
  }
 ],
 "metadata": {
  "kernelspec": {
   "display_name": "Python 3",
   "language": "python",
   "name": "python3"
  },
  "language_info": {
   "codemirror_mode": {
    "name": "ipython",
    "version": 3
   },
   "file_extension": ".py",
   "mimetype": "text/x-python",
   "name": "python",
   "nbconvert_exporter": "python",
   "pygments_lexer": "ipython3",
   "version": "3.7.6"
  }
 },
 "nbformat": 4,
 "nbformat_minor": 4
}
